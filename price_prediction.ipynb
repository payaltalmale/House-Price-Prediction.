{
 "cells": [
  {
   "cell_type": "markdown",
   "id": "0bc93f3e",
   "metadata": {},
   "source": [
    "# House Price Prediction"
   ]
  },
  {
   "cell_type": "markdown",
   "id": "d2364359",
   "metadata": {},
   "source": [
    "# Life cycle of machine learning project"
   ]
  },
  {
   "cell_type": "markdown",
   "id": "33750511",
   "metadata": {},
   "source": [
    "- understanding the problem satatement\n",
    "- data collection\n",
    "- Data checks to perform \n",
    "- EXploratory data analysis\n",
    "- data pre-processing\n",
    "- model training\n",
    "- choose the best model"
   ]
  },
  {
   "cell_type": "markdown",
   "id": "59cbd0da",
   "metadata": {},
   "source": [
    "# Problem statement"
   ]
  },
  {
   "cell_type": "markdown",
   "id": "cad83f6e",
   "metadata": {},
   "source": [
    "Build a machine learning model  that can accurately predict the prices of houses based on various features such as the area of the house, the number of bedrooms and bathrooms, the number of stories, the presence of amenities like a main road, guest room, basement, hot water heating, air conditioning, parking, preferred area, and the furnishing status."
   ]
  },
  {
   "cell_type": "markdown",
   "id": "1ca4234e",
   "metadata": {},
   "source": [
    "# Data collection"
   ]
  },
  {
   "cell_type": "markdown",
   "id": "596a9732",
   "metadata": {},
   "source": [
    "- Dataset source-https://www.kaggle.com/datasets/yasserh/housing-prices-dataset"
   ]
  },
  {
   "cell_type": "markdown",
   "id": "ce132054",
   "metadata": {},
   "source": [
    "# Import Data and Required Packages\n"
   ]
  },
  {
   "cell_type": "code",
   "execution_count": 1,
   "id": "457ac147",
   "metadata": {},
   "outputs": [],
   "source": [
    "import numpy as np\n",
    "import pandas as pd\n",
    "import seaborn as sns\n",
    "import matplotlib.pyplot as plt\n",
    "%matplotlib inline\n",
    "from sklearn.preprocessing import MinMaxScaler\n",
    "import warnings\n",
    "warnings.filterwarnings('ignore')"
   ]
  },
  {
   "cell_type": "code",
   "execution_count": 2,
   "id": "fe3468d0",
   "metadata": {},
   "outputs": [],
   "source": [
    "#import csv data as pandas dataframe\n",
    "data= pd.read_csv('Housing.csv')"
   ]
  },
  {
   "cell_type": "code",
   "execution_count": 3,
   "id": "1c931394",
   "metadata": {},
   "outputs": [
    {
     "data": {
      "text/html": [
       "<div>\n",
       "<style scoped>\n",
       "    .dataframe tbody tr th:only-of-type {\n",
       "        vertical-align: middle;\n",
       "    }\n",
       "\n",
       "    .dataframe tbody tr th {\n",
       "        vertical-align: top;\n",
       "    }\n",
       "\n",
       "    .dataframe thead th {\n",
       "        text-align: right;\n",
       "    }\n",
       "</style>\n",
       "<table border=\"1\" class=\"dataframe\">\n",
       "  <thead>\n",
       "    <tr style=\"text-align: right;\">\n",
       "      <th></th>\n",
       "      <th>price</th>\n",
       "      <th>area</th>\n",
       "      <th>bedrooms</th>\n",
       "      <th>bathrooms</th>\n",
       "      <th>stories</th>\n",
       "      <th>mainroad</th>\n",
       "      <th>guestroom</th>\n",
       "      <th>basement</th>\n",
       "      <th>hotwaterheating</th>\n",
       "      <th>airconditioning</th>\n",
       "      <th>parking</th>\n",
       "      <th>prefarea</th>\n",
       "      <th>furnishingstatus</th>\n",
       "    </tr>\n",
       "  </thead>\n",
       "  <tbody>\n",
       "    <tr>\n",
       "      <th>0</th>\n",
       "      <td>13300000</td>\n",
       "      <td>7420</td>\n",
       "      <td>4</td>\n",
       "      <td>2</td>\n",
       "      <td>3</td>\n",
       "      <td>yes</td>\n",
       "      <td>no</td>\n",
       "      <td>no</td>\n",
       "      <td>no</td>\n",
       "      <td>yes</td>\n",
       "      <td>2</td>\n",
       "      <td>yes</td>\n",
       "      <td>furnished</td>\n",
       "    </tr>\n",
       "    <tr>\n",
       "      <th>1</th>\n",
       "      <td>12250000</td>\n",
       "      <td>8960</td>\n",
       "      <td>4</td>\n",
       "      <td>4</td>\n",
       "      <td>4</td>\n",
       "      <td>yes</td>\n",
       "      <td>no</td>\n",
       "      <td>no</td>\n",
       "      <td>no</td>\n",
       "      <td>yes</td>\n",
       "      <td>3</td>\n",
       "      <td>no</td>\n",
       "      <td>furnished</td>\n",
       "    </tr>\n",
       "    <tr>\n",
       "      <th>2</th>\n",
       "      <td>12250000</td>\n",
       "      <td>9960</td>\n",
       "      <td>3</td>\n",
       "      <td>2</td>\n",
       "      <td>2</td>\n",
       "      <td>yes</td>\n",
       "      <td>no</td>\n",
       "      <td>yes</td>\n",
       "      <td>no</td>\n",
       "      <td>no</td>\n",
       "      <td>2</td>\n",
       "      <td>yes</td>\n",
       "      <td>semi-furnished</td>\n",
       "    </tr>\n",
       "    <tr>\n",
       "      <th>3</th>\n",
       "      <td>12215000</td>\n",
       "      <td>7500</td>\n",
       "      <td>4</td>\n",
       "      <td>2</td>\n",
       "      <td>2</td>\n",
       "      <td>yes</td>\n",
       "      <td>no</td>\n",
       "      <td>yes</td>\n",
       "      <td>no</td>\n",
       "      <td>yes</td>\n",
       "      <td>3</td>\n",
       "      <td>yes</td>\n",
       "      <td>furnished</td>\n",
       "    </tr>\n",
       "    <tr>\n",
       "      <th>4</th>\n",
       "      <td>11410000</td>\n",
       "      <td>7420</td>\n",
       "      <td>4</td>\n",
       "      <td>1</td>\n",
       "      <td>2</td>\n",
       "      <td>yes</td>\n",
       "      <td>yes</td>\n",
       "      <td>yes</td>\n",
       "      <td>no</td>\n",
       "      <td>yes</td>\n",
       "      <td>2</td>\n",
       "      <td>no</td>\n",
       "      <td>furnished</td>\n",
       "    </tr>\n",
       "  </tbody>\n",
       "</table>\n",
       "</div>"
      ],
      "text/plain": [
       "      price  area  bedrooms  bathrooms  stories mainroad guestroom basement  \\\n",
       "0  13300000  7420         4          2        3      yes        no       no   \n",
       "1  12250000  8960         4          4        4      yes        no       no   \n",
       "2  12250000  9960         3          2        2      yes        no      yes   \n",
       "3  12215000  7500         4          2        2      yes        no      yes   \n",
       "4  11410000  7420         4          1        2      yes       yes      yes   \n",
       "\n",
       "  hotwaterheating airconditioning  parking prefarea furnishingstatus  \n",
       "0              no             yes        2      yes        furnished  \n",
       "1              no             yes        3       no        furnished  \n",
       "2              no              no        2      yes   semi-furnished  \n",
       "3              no             yes        3      yes        furnished  \n",
       "4              no             yes        2       no        furnished  "
      ]
     },
     "execution_count": 3,
     "metadata": {},
     "output_type": "execute_result"
    }
   ],
   "source": [
    "# show top 5 records\n",
    "data.head()"
   ]
  },
  {
   "cell_type": "code",
   "execution_count": 4,
   "id": "172f24ce",
   "metadata": {},
   "outputs": [
    {
     "data": {
      "text/html": [
       "<div>\n",
       "<style scoped>\n",
       "    .dataframe tbody tr th:only-of-type {\n",
       "        vertical-align: middle;\n",
       "    }\n",
       "\n",
       "    .dataframe tbody tr th {\n",
       "        vertical-align: top;\n",
       "    }\n",
       "\n",
       "    .dataframe thead th {\n",
       "        text-align: right;\n",
       "    }\n",
       "</style>\n",
       "<table border=\"1\" class=\"dataframe\">\n",
       "  <thead>\n",
       "    <tr style=\"text-align: right;\">\n",
       "      <th></th>\n",
       "      <th>price</th>\n",
       "      <th>area</th>\n",
       "      <th>bedrooms</th>\n",
       "      <th>bathrooms</th>\n",
       "      <th>stories</th>\n",
       "      <th>mainroad</th>\n",
       "      <th>guestroom</th>\n",
       "      <th>basement</th>\n",
       "      <th>hotwaterheating</th>\n",
       "      <th>airconditioning</th>\n",
       "      <th>parking</th>\n",
       "      <th>prefarea</th>\n",
       "      <th>furnishingstatus</th>\n",
       "    </tr>\n",
       "  </thead>\n",
       "  <tbody>\n",
       "    <tr>\n",
       "      <th>540</th>\n",
       "      <td>1820000</td>\n",
       "      <td>3000</td>\n",
       "      <td>2</td>\n",
       "      <td>1</td>\n",
       "      <td>1</td>\n",
       "      <td>yes</td>\n",
       "      <td>no</td>\n",
       "      <td>yes</td>\n",
       "      <td>no</td>\n",
       "      <td>no</td>\n",
       "      <td>2</td>\n",
       "      <td>no</td>\n",
       "      <td>unfurnished</td>\n",
       "    </tr>\n",
       "    <tr>\n",
       "      <th>541</th>\n",
       "      <td>1767150</td>\n",
       "      <td>2400</td>\n",
       "      <td>3</td>\n",
       "      <td>1</td>\n",
       "      <td>1</td>\n",
       "      <td>no</td>\n",
       "      <td>no</td>\n",
       "      <td>no</td>\n",
       "      <td>no</td>\n",
       "      <td>no</td>\n",
       "      <td>0</td>\n",
       "      <td>no</td>\n",
       "      <td>semi-furnished</td>\n",
       "    </tr>\n",
       "    <tr>\n",
       "      <th>542</th>\n",
       "      <td>1750000</td>\n",
       "      <td>3620</td>\n",
       "      <td>2</td>\n",
       "      <td>1</td>\n",
       "      <td>1</td>\n",
       "      <td>yes</td>\n",
       "      <td>no</td>\n",
       "      <td>no</td>\n",
       "      <td>no</td>\n",
       "      <td>no</td>\n",
       "      <td>0</td>\n",
       "      <td>no</td>\n",
       "      <td>unfurnished</td>\n",
       "    </tr>\n",
       "    <tr>\n",
       "      <th>543</th>\n",
       "      <td>1750000</td>\n",
       "      <td>2910</td>\n",
       "      <td>3</td>\n",
       "      <td>1</td>\n",
       "      <td>1</td>\n",
       "      <td>no</td>\n",
       "      <td>no</td>\n",
       "      <td>no</td>\n",
       "      <td>no</td>\n",
       "      <td>no</td>\n",
       "      <td>0</td>\n",
       "      <td>no</td>\n",
       "      <td>furnished</td>\n",
       "    </tr>\n",
       "    <tr>\n",
       "      <th>544</th>\n",
       "      <td>1750000</td>\n",
       "      <td>3850</td>\n",
       "      <td>3</td>\n",
       "      <td>1</td>\n",
       "      <td>2</td>\n",
       "      <td>yes</td>\n",
       "      <td>no</td>\n",
       "      <td>no</td>\n",
       "      <td>no</td>\n",
       "      <td>no</td>\n",
       "      <td>0</td>\n",
       "      <td>no</td>\n",
       "      <td>unfurnished</td>\n",
       "    </tr>\n",
       "  </tbody>\n",
       "</table>\n",
       "</div>"
      ],
      "text/plain": [
       "       price  area  bedrooms  bathrooms  stories mainroad guestroom basement  \\\n",
       "540  1820000  3000         2          1        1      yes        no      yes   \n",
       "541  1767150  2400         3          1        1       no        no       no   \n",
       "542  1750000  3620         2          1        1      yes        no       no   \n",
       "543  1750000  2910         3          1        1       no        no       no   \n",
       "544  1750000  3850         3          1        2      yes        no       no   \n",
       "\n",
       "    hotwaterheating airconditioning  parking prefarea furnishingstatus  \n",
       "540              no              no        2       no      unfurnished  \n",
       "541              no              no        0       no   semi-furnished  \n",
       "542              no              no        0       no      unfurnished  \n",
       "543              no              no        0       no        furnished  \n",
       "544              no              no        0       no      unfurnished  "
      ]
     },
     "execution_count": 4,
     "metadata": {},
     "output_type": "execute_result"
    }
   ],
   "source": [
    "# show bottom 5 records\n",
    "data.tail()"
   ]
  },
  {
   "cell_type": "code",
   "execution_count": 5,
   "id": "3aabf2ac",
   "metadata": {},
   "outputs": [
    {
     "data": {
      "text/plain": [
       "(545, 13)"
      ]
     },
     "execution_count": 5,
     "metadata": {},
     "output_type": "execute_result"
    }
   ],
   "source": [
    "# shape of the dataset\n",
    "data.shape"
   ]
  },
  {
   "cell_type": "markdown",
   "id": "4db83bfb",
   "metadata": {},
   "source": [
    "### 3. Data Checks to perform\n",
    "\n",
    "- Check Missing values\n",
    "- Check Duplicates\n",
    "- Check data type\n",
    "- Check the number of unique values of each column\n",
    "- Check statistics of data set\n",
    "- Check various categories present in the different categorical column"
   ]
  },
  {
   "cell_type": "code",
   "execution_count": 6,
   "id": "c918b667",
   "metadata": {},
   "outputs": [
    {
     "data": {
      "text/plain": [
       "price               0\n",
       "area                0\n",
       "bedrooms            0\n",
       "bathrooms           0\n",
       "stories             0\n",
       "mainroad            0\n",
       "guestroom           0\n",
       "basement            0\n",
       "hotwaterheating     0\n",
       "airconditioning     0\n",
       "parking             0\n",
       "prefarea            0\n",
       "furnishingstatus    0\n",
       "dtype: int64"
      ]
     },
     "execution_count": 6,
     "metadata": {},
     "output_type": "execute_result"
    }
   ],
   "source": [
    "# check missing value\n",
    "data.isna().sum()"
   ]
  },
  {
   "cell_type": "markdown",
   "id": "555f9495",
   "metadata": {},
   "source": [
    "#### There are no missing values in the data set"
   ]
  },
  {
   "cell_type": "code",
   "execution_count": 7,
   "id": "50721eee",
   "metadata": {},
   "outputs": [
    {
     "data": {
      "text/plain": [
       "0"
      ]
     },
     "execution_count": 7,
     "metadata": {},
     "output_type": "execute_result"
    }
   ],
   "source": [
    "# check Duplicates\n",
    "data.duplicated().sum()"
   ]
  },
  {
   "cell_type": "markdown",
   "id": "d4101dee",
   "metadata": {},
   "source": [
    "#### There are no duplicates  values in the data set"
   ]
  },
  {
   "cell_type": "code",
   "execution_count": 8,
   "id": "5b3943c3",
   "metadata": {},
   "outputs": [
    {
     "name": "stdout",
     "output_type": "stream",
     "text": [
      "<class 'pandas.core.frame.DataFrame'>\n",
      "RangeIndex: 545 entries, 0 to 544\n",
      "Data columns (total 13 columns):\n",
      " #   Column            Non-Null Count  Dtype \n",
      "---  ------            --------------  ----- \n",
      " 0   price             545 non-null    int64 \n",
      " 1   area              545 non-null    int64 \n",
      " 2   bedrooms          545 non-null    int64 \n",
      " 3   bathrooms         545 non-null    int64 \n",
      " 4   stories           545 non-null    int64 \n",
      " 5   mainroad          545 non-null    object\n",
      " 6   guestroom         545 non-null    object\n",
      " 7   basement          545 non-null    object\n",
      " 8   hotwaterheating   545 non-null    object\n",
      " 9   airconditioning   545 non-null    object\n",
      " 10  parking           545 non-null    int64 \n",
      " 11  prefarea          545 non-null    object\n",
      " 12  furnishingstatus  545 non-null    object\n",
      "dtypes: int64(6), object(7)\n",
      "memory usage: 55.5+ KB\n"
     ]
    }
   ],
   "source": [
    "# check data type\n",
    "data.info()"
   ]
  },
  {
   "cell_type": "markdown",
   "id": "a8ea790f",
   "metadata": {},
   "source": [
    "- Each column is listed along with its index, column name, non-null count, and data type.\n",
    "- The dataset includes 6 columns of integer data type (`int64`) and 7 columns of object data type (`object`).\n",
    "- Numeric columns such as `price`, `area`, `bedrooms`, `bathrooms`, `stories`, and `parking`, which are represented as integers (`int64`).\n",
    "- Categorical columns such as `mainroad`, `guestroom`, `basement`, `hotwaterheating`, `airconditioning`, `prefarea`, and `furnishingstatus`,  which are represented as objects (`object`)."
   ]
  },
  {
   "cell_type": "code",
   "execution_count": 9,
   "id": "02f0075a",
   "metadata": {},
   "outputs": [
    {
     "data": {
      "text/plain": [
       "price               219\n",
       "area                284\n",
       "bedrooms              6\n",
       "bathrooms             4\n",
       "stories               4\n",
       "mainroad              2\n",
       "guestroom             2\n",
       "basement              2\n",
       "hotwaterheating       2\n",
       "airconditioning       2\n",
       "parking               4\n",
       "prefarea              2\n",
       "furnishingstatus      3\n",
       "dtype: int64"
      ]
     },
     "execution_count": 9,
     "metadata": {},
     "output_type": "execute_result"
    }
   ],
   "source": [
    "### Checking the number of unique values of each column\n",
    "data.nunique()"
   ]
  },
  {
   "cell_type": "code",
   "execution_count": 10,
   "id": "f958dc27",
   "metadata": {
    "scrolled": true
   },
   "outputs": [
    {
     "data": {
      "text/html": [
       "<div>\n",
       "<style scoped>\n",
       "    .dataframe tbody tr th:only-of-type {\n",
       "        vertical-align: middle;\n",
       "    }\n",
       "\n",
       "    .dataframe tbody tr th {\n",
       "        vertical-align: top;\n",
       "    }\n",
       "\n",
       "    .dataframe thead th {\n",
       "        text-align: right;\n",
       "    }\n",
       "</style>\n",
       "<table border=\"1\" class=\"dataframe\">\n",
       "  <thead>\n",
       "    <tr style=\"text-align: right;\">\n",
       "      <th></th>\n",
       "      <th>price</th>\n",
       "      <th>area</th>\n",
       "      <th>bedrooms</th>\n",
       "      <th>bathrooms</th>\n",
       "      <th>stories</th>\n",
       "      <th>parking</th>\n",
       "    </tr>\n",
       "  </thead>\n",
       "  <tbody>\n",
       "    <tr>\n",
       "      <th>count</th>\n",
       "      <td>5.450000e+02</td>\n",
       "      <td>545.000000</td>\n",
       "      <td>545.000000</td>\n",
       "      <td>545.000000</td>\n",
       "      <td>545.000000</td>\n",
       "      <td>545.000000</td>\n",
       "    </tr>\n",
       "    <tr>\n",
       "      <th>mean</th>\n",
       "      <td>4.766729e+06</td>\n",
       "      <td>5150.541284</td>\n",
       "      <td>2.965138</td>\n",
       "      <td>1.286239</td>\n",
       "      <td>1.805505</td>\n",
       "      <td>0.693578</td>\n",
       "    </tr>\n",
       "    <tr>\n",
       "      <th>std</th>\n",
       "      <td>1.870440e+06</td>\n",
       "      <td>2170.141023</td>\n",
       "      <td>0.738064</td>\n",
       "      <td>0.502470</td>\n",
       "      <td>0.867492</td>\n",
       "      <td>0.861586</td>\n",
       "    </tr>\n",
       "    <tr>\n",
       "      <th>min</th>\n",
       "      <td>1.750000e+06</td>\n",
       "      <td>1650.000000</td>\n",
       "      <td>1.000000</td>\n",
       "      <td>1.000000</td>\n",
       "      <td>1.000000</td>\n",
       "      <td>0.000000</td>\n",
       "    </tr>\n",
       "    <tr>\n",
       "      <th>25%</th>\n",
       "      <td>3.430000e+06</td>\n",
       "      <td>3600.000000</td>\n",
       "      <td>2.000000</td>\n",
       "      <td>1.000000</td>\n",
       "      <td>1.000000</td>\n",
       "      <td>0.000000</td>\n",
       "    </tr>\n",
       "    <tr>\n",
       "      <th>50%</th>\n",
       "      <td>4.340000e+06</td>\n",
       "      <td>4600.000000</td>\n",
       "      <td>3.000000</td>\n",
       "      <td>1.000000</td>\n",
       "      <td>2.000000</td>\n",
       "      <td>0.000000</td>\n",
       "    </tr>\n",
       "    <tr>\n",
       "      <th>75%</th>\n",
       "      <td>5.740000e+06</td>\n",
       "      <td>6360.000000</td>\n",
       "      <td>3.000000</td>\n",
       "      <td>2.000000</td>\n",
       "      <td>2.000000</td>\n",
       "      <td>1.000000</td>\n",
       "    </tr>\n",
       "    <tr>\n",
       "      <th>max</th>\n",
       "      <td>1.330000e+07</td>\n",
       "      <td>16200.000000</td>\n",
       "      <td>6.000000</td>\n",
       "      <td>4.000000</td>\n",
       "      <td>4.000000</td>\n",
       "      <td>3.000000</td>\n",
       "    </tr>\n",
       "  </tbody>\n",
       "</table>\n",
       "</div>"
      ],
      "text/plain": [
       "              price          area    bedrooms   bathrooms     stories  \\\n",
       "count  5.450000e+02    545.000000  545.000000  545.000000  545.000000   \n",
       "mean   4.766729e+06   5150.541284    2.965138    1.286239    1.805505   \n",
       "std    1.870440e+06   2170.141023    0.738064    0.502470    0.867492   \n",
       "min    1.750000e+06   1650.000000    1.000000    1.000000    1.000000   \n",
       "25%    3.430000e+06   3600.000000    2.000000    1.000000    1.000000   \n",
       "50%    4.340000e+06   4600.000000    3.000000    1.000000    2.000000   \n",
       "75%    5.740000e+06   6360.000000    3.000000    2.000000    2.000000   \n",
       "max    1.330000e+07  16200.000000    6.000000    4.000000    4.000000   \n",
       "\n",
       "          parking  \n",
       "count  545.000000  \n",
       "mean     0.693578  \n",
       "std      0.861586  \n",
       "min      0.000000  \n",
       "25%      0.000000  \n",
       "50%      0.000000  \n",
       "75%      1.000000  \n",
       "max      3.000000  "
      ]
     },
     "execution_count": 10,
     "metadata": {},
     "output_type": "execute_result"
    }
   ],
   "source": [
    "# Check statistics of dataset\n",
    "data.describe()"
   ]
  },
  {
   "cell_type": "markdown",
   "id": "9db018b5",
   "metadata": {},
   "source": [
    "Insight from the numerical data description:\n",
    "\n",
    "1. Price:\n",
    "   - The prices of houses in the dataset range from 1,750,000 to 13,300,000.\n",
    "   - The average price is approximately 4,766,729, with a standard deviation of 1,870,440.\n",
    "   - The majority of house prices fall between 3,430,000 (25th percentile) and 5,740,000 (75th percentile).\n",
    "\n",
    "2. Area:\n",
    "   - The areas of houses range from 1,650 to 16,200 square units.\n",
    "   - The average area is approximately 5,150.54, with a standard deviation of 2,170.14.\n",
    "   - The majority of houses have an area between 3,600 (25th percentile) and 6,360 (75th percentile).\n",
    "\n",
    "3. Bedrooms:\n",
    "   - The number of bedrooms in the houses ranges from 1 to 6.\n",
    "   - The average number of bedrooms is approximately 2.97, with a standard deviation of 0.738.\n",
    "\n",
    "4. Bathrooms:\n",
    "   - The number of bathrooms in the houses ranges from 1 to 4.\n",
    "   - The average number of bathrooms is approximately 1.29, with a standard deviation of 0.502.\n",
    "\n",
    "5. Stories:\n",
    "   - The number of stories in the houses ranges from 1 to 4.\n",
    "   - The average number of stories is approximately 1.81, with a standard deviation of 0.867.\n",
    "\n",
    "6. Parking:\n",
    "   - The number of parking spaces available for the houses ranges from 0 to 3.\n",
    "   - The average number of parking spaces is approximately 0.69, with a standard deviation of 0.861.\n",
    "\n"
   ]
  },
  {
   "cell_type": "code",
   "execution_count": 11,
   "id": "aa519adc",
   "metadata": {},
   "outputs": [
    {
     "name": "stdout",
     "output_type": "stream",
     "text": [
      "              price      area  bedrooms  bathrooms   stories   parking\n",
      "price      1.000000  0.535997  0.366494   0.517545  0.420712  0.384394\n",
      "area       0.535997  1.000000  0.151858   0.193820  0.083996  0.352980\n",
      "bedrooms   0.366494  0.151858  1.000000   0.373930  0.408564  0.139270\n",
      "bathrooms  0.517545  0.193820  0.373930   1.000000  0.326165  0.177496\n",
      "stories    0.420712  0.083996  0.408564   0.326165  1.000000  0.045547\n",
      "parking    0.384394  0.352980  0.139270   0.177496  0.045547  1.000000\n"
     ]
    }
   ],
   "source": [
    "# compute the correlation matrix\n",
    "corr_matrix=data.corr()\n",
    "print(corr_matrix)"
   ]
  },
  {
   "cell_type": "code",
   "execution_count": 12,
   "id": "b2472a66",
   "metadata": {},
   "outputs": [
    {
     "data": {
      "image/png": "[encoded data removed]",
      "text/plain": [
       "<Figure size 1000x600 with 2 Axes>"
      ]
     },
     "metadata": {},
     "output_type": "display_data"
    }
   ],
   "source": [
    "#plot the correlation heatmap\n",
    "plt.figure(figsize=(10,6))\n",
    "sns.heatmap(corr_matrix,annot= True, cmap='BrBG')\n",
    "plt.title('Correlation Heatmap')\n",
    "plt.show()\n"
   ]
  },
  {
   "cell_type": "markdown",
   "id": "11ce5432",
   "metadata": {},
   "source": [
    "- white=middle correlation\n",
    "- green=positive correlation\n",
    "- brown=negative correlation\n",
    "- The correlation heatmap helps us understand the relationships between numerical variables.\n",
    "- The 'Price' variable is positively correlated with 'Area' and 'Bathrooms', indicating that larger houses with more bathrooms tend to have higher prices.\n"
   ]
  },
  {
   "cell_type": "code",
   "execution_count": 13,
   "id": "7ba8e459",
   "metadata": {},
   "outputs": [
    {
     "data": {
      "image/png": "[encoded data removed]",
      "text/plain": [
       "<Figure size 1000x600 with 1 Axes>"
      ]
     },
     "metadata": {},
     "output_type": "display_data"
    }
   ],
   "source": [
    "\n",
    "# Distribution of the target variable (price)\n",
    "plt.figure(figsize=(10, 6))\n",
    "sns.histplot(data=data, x='price', kde=True)\n",
    "plt.title('Distribution of House Prices')\n",
    "plt.xlabel('Price')\n",
    "plt.show()\n"
   ]
  },
  {
   "cell_type": "code",
   "execution_count": 14,
   "id": "32ec3123",
   "metadata": {},
   "outputs": [
    {
     "name": "stdout",
     "output_type": "stream",
     "text": [
      "The distribution is right-skewed.\n"
     ]
    }
   ],
   "source": [
    "# Calculate skewness\n",
    "\n",
    "from scipy.stats import skew\n",
    "\n",
    "\n",
    "price_skewness = skew(data['price'])\n",
    "\n",
    "if price_skewness > 0:\n",
    "    print(\"The distribution is right-skewed.\")\n",
    "elif price_skewness < 0:\n",
    "    print(\"The distribution is left-skewed.\")\n",
    "else:\n",
    "    print(\"The distribution is approximately symmetric.\")\n"
   ]
  },
  {
   "cell_type": "markdown",
   "id": "9aafbe42",
   "metadata": {},
   "source": [
    "histogram of house prices is right-skewed, it indicates that the majority of the house prices are concentrated towards the lower end of the distribution, while a few houses have significantly higher prices."
   ]
  },
  {
   "cell_type": "code",
   "execution_count": 15,
   "id": "f2efbef4",
   "metadata": {},
   "outputs": [
    {
     "data": {
      "image/png": "[encoded data removed]",
      "text/plain": [
       "<Figure size 1000x600 with 1 Axes>"
      ]
     },
     "metadata": {},
     "output_type": "display_data"
    }
   ],
   "source": [
    "# countplot of the mainroad availability\n",
    "plt.figure(figsize=(10,6))\n",
    "sns.countplot(data=data, x='mainroad')\n",
    "plt.title('Mainroad Availability')\n",
    "plt.xlabel('Mainroad')\n",
    "plt.ylabel('count')\n",
    "plt.show()"
   ]
  },
  {
   "cell_type": "markdown",
   "id": "ca23b23c",
   "metadata": {},
   "source": [
    " The count plot shows that a majority of houses in the dataset have availability of the main road."
   ]
  },
  {
   "cell_type": "code",
   "execution_count": 16,
   "id": "527f5059",
   "metadata": {},
   "outputs": [
    {
     "data": {
      "text/plain": [
       "<AxesSubplot:xlabel='airconditioning', ylabel='bedrooms'>"
      ]
     },
     "execution_count": 16,
     "metadata": {},
     "output_type": "execute_result"
    },
    {
     "data": {
      "image/png": "[encoded data removed]",
      "text/plain": [
       "<Figure size 640x480 with 1 Axes>"
      ]
     },
     "metadata": {},
     "output_type": "display_data"
    }
   ],
   "source": [
    "#Barplot showing the impact of Air Conditioning on the Average Number of Bedrooms based on Furnishing Status\n",
    "sns.barplot(x=data['airconditioning'], y=data['bedrooms'],  hue=data['furnishingstatus'])"
   ]
  },
  {
   "cell_type": "markdown",
   "id": "db8e53f9",
   "metadata": {},
   "source": [
    "Insight: \n",
    " - For houses with furnished status (indicated by a blue bar), those with air conditioning (x=yes) have the highest average number of bedrooms compared to houses without air conditioning (x=no).\n",
    " - In contrast, for houses with semi-furnished status (indicated by an orange bar), those with air conditioning tend to have a slightly higher average number of bedrooms compared to houses without air conditioning.\n",
    " - For houses with unfurnished status (indicated by a green bar), the average number of bedrooms is relatively consistent regardless of the presence or absence of air conditioning.\n",
    "\n"
   ]
  },
  {
   "cell_type": "code",
   "execution_count": 17,
   "id": "c8529e7c",
   "metadata": {},
   "outputs": [
    {
     "data": {
      "text/plain": [
       "<AxesSubplot:xlabel='hotwaterheating', ylabel='bathrooms'>"
      ]
     },
     "execution_count": 17,
     "metadata": {},
     "output_type": "execute_result"
    },
    {
     "data": {
      "image/png": "[encoded data removed]",
      "text/plain": [
       "<Figure size 640x480 with 1 Axes>"
      ]
     },
     "metadata": {},
     "output_type": "display_data"
    }
   ],
   "source": [
    "# Barplot showing the impact of Hot Water Heating on the Average Number of Bathrooms based on Furnishing Status\n",
    "sns.barplot(x=data['hotwaterheating'], y=data['bathrooms'], hue=data['furnishingstatus'])"
   ]
  },
  {
   "cell_type": "markdown",
   "id": "e25c4826",
   "metadata": {},
   "source": [
    "Insight: \n",
    "- For furnished houses, the presence of hot water heating is associated with a slightly higher average number of bathrooms compared to the absence of hot water heating.\n",
    "- For semi-furnished houses, the presence of hot water heating is also associated with a slightly higher average number of bathrooms.\n",
    "- For unfurnished houses, the presence of hot water heating is associated with a significantly higher average number of bathrooms.\n"
   ]
  },
  {
   "cell_type": "markdown",
   "id": "047a19ae",
   "metadata": {},
   "source": [
    "# Box plot"
   ]
  },
  {
   "cell_type": "code",
   "execution_count": 18,
   "id": "1f6e2f26",
   "metadata": {},
   "outputs": [
    {
     "data": {
      "image/png": "[encoded data removed]",
      "text/plain": [
       "<Figure size 1000x500 with 6 Axes>"
      ]
     },
     "metadata": {},
     "output_type": "display_data"
    }
   ],
   "source": [
    "fig, axs = plt.subplots(2,3,figsize=(10,5))\n",
    "plt1 = sns.boxplot(data['price'], ax = axs[0,0])\n",
    "plt2 = sns.boxplot(data['area'], ax = axs[0,1])\n",
    "plt3 = sns.boxplot(data['bedrooms'], ax = axs[0,2])\n",
    "plt1 = sns.boxplot(data['bathrooms'], ax = axs[1,0])\n",
    "plt2 = sns.boxplot(data['stories'], ax = axs[1,1])\n",
    "plt3 = sns.boxplot(data['parking'], ax = axs[1,2])\n",
    "\n",
    "plt.tight_layout()"
   ]
  },
  {
   "cell_type": "code",
   "execution_count": 19,
   "id": "0c4118ea",
   "metadata": {},
   "outputs": [
    {
     "data": {
      "text/plain": [
       "{'whiskers': [<matplotlib.lines.Line2D at 0x23e64d54dc0>,\n",
       "  <matplotlib.lines.Line2D at 0x23e64d542e0>],\n",
       " 'caps': [<matplotlib.lines.Line2D at 0x23e64d54220>,\n",
       "  <matplotlib.lines.Line2D at 0x23e64d54a90>],\n",
       " 'boxes': [<matplotlib.lines.Line2D at 0x23e64d54940>],\n",
       " 'medians': [<matplotlib.lines.Line2D at 0x23e62b707f0>],\n",
       " 'fliers': [<matplotlib.lines.Line2D at 0x23e62b70490>],\n",
       " 'means': []}"
      ]
     },
     "execution_count": 19,
     "metadata": {},
     "output_type": "execute_result"
    },
    {
     "data": {
      "image/png": "[encoded data removed]",
      "text/plain": [
       "<Figure size 640x480 with 1 Axes>"
      ]
     },
     "metadata": {},
     "output_type": "display_data"
    }
   ],
   "source": [
    "# Dealing with outliers in price \n",
    "Q1 = data.price.quantile(0.25)\n",
    "Q3 = data.price.quantile(0.75)\n",
    "IQR = Q3 - Q1\n",
    "data = data[(data.price >= Q1 - 1.5*IQR) & (data.price <= Q3 + 1.5*IQR)]\n",
    "\n",
    "plt.boxplot(data.price)\n"
   ]
  },
  {
   "cell_type": "code",
   "execution_count": 20,
   "id": "be06c8f8",
   "metadata": {},
   "outputs": [
    {
     "data": {
      "text/plain": [
       "{'whiskers': [<matplotlib.lines.Line2D at 0x23e62be0550>,\n",
       "  <matplotlib.lines.Line2D at 0x23e62be01c0>],\n",
       " 'caps': [<matplotlib.lines.Line2D at 0x23e62bb12e0>,\n",
       "  <matplotlib.lines.Line2D at 0x23e62bb1e20>],\n",
       " 'boxes': [<matplotlib.lines.Line2D at 0x23e62be0dc0>],\n",
       " 'medians': [<matplotlib.lines.Line2D at 0x23e62bb1c40>],\n",
       " 'fliers': [<matplotlib.lines.Line2D at 0x23e62bb1790>],\n",
       " 'means': []}"
      ]
     },
     "execution_count": 20,
     "metadata": {},
     "output_type": "execute_result"
    },
    {
     "data": {
      "image/png": "[encoded data removed]",
      "text/plain": [
       "<Figure size 640x480 with 1 Axes>"
      ]
     },
     "metadata": {},
     "output_type": "display_data"
    }
   ],
   "source": [
    "# Dealing with outliers in srea \n",
    "\n",
    "Q1 = data.area.quantile(0.25)\n",
    "Q3 = data.area.quantile(0.75)\n",
    "IQR = Q3 - Q1\n",
    "data = data[(data.area >= Q1 - 1.5*IQR) & (data.area <= Q3 + 1.5*IQR)]\n",
    "plt.boxplot(data.area)\n"
   ]
  },
  {
   "cell_type": "markdown",
   "id": "634c2226",
   "metadata": {},
   "source": [
    "# Feature Engineering"
   ]
  },
  {
   "cell_type": "code",
   "execution_count": 21,
   "id": "fd147a67",
   "metadata": {},
   "outputs": [],
   "source": [
    "# Convert categorical variables into binary/dummy variables\n",
    "status = pd.get_dummies(data[['furnishingstatus','mainroad', 'guestroom', 'basement', 'hotwaterheating', 'airconditioning', 'prefarea']], drop_first = True)\n",
    "data = pd.concat([data, status], axis = 1)\n",
    "data.drop(['furnishingstatus','mainroad', 'guestroom', 'basement', 'hotwaterheating', 'airconditioning', 'prefarea'], axis = 1, inplace = True)\n",
    "\n"
   ]
  },
  {
   "cell_type": "code",
   "execution_count": 22,
   "id": "01ac4a43",
   "metadata": {},
   "outputs": [
    {
     "data": {
      "text/html": [
       "<div>\n",
       "<style scoped>\n",
       "    .dataframe tbody tr th:only-of-type {\n",
       "        vertical-align: middle;\n",
       "    }\n",
       "\n",
       "    .dataframe tbody tr th {\n",
       "        vertical-align: top;\n",
       "    }\n",
       "\n",
       "    .dataframe thead th {\n",
       "        text-align: right;\n",
       "    }\n",
       "</style>\n",
       "<table border=\"1\" class=\"dataframe\">\n",
       "  <thead>\n",
       "    <tr style=\"text-align: right;\">\n",
       "      <th></th>\n",
       "      <th>price</th>\n",
       "      <th>area</th>\n",
       "      <th>bedrooms</th>\n",
       "      <th>bathrooms</th>\n",
       "      <th>stories</th>\n",
       "      <th>parking</th>\n",
       "      <th>furnishingstatus_semi-furnished</th>\n",
       "      <th>furnishingstatus_unfurnished</th>\n",
       "      <th>mainroad_yes</th>\n",
       "      <th>guestroom_yes</th>\n",
       "      <th>basement_yes</th>\n",
       "      <th>hotwaterheating_yes</th>\n",
       "      <th>airconditioning_yes</th>\n",
       "      <th>prefarea_yes</th>\n",
       "    </tr>\n",
       "  </thead>\n",
       "  <tbody>\n",
       "    <tr>\n",
       "      <th>15</th>\n",
       "      <td>9100000</td>\n",
       "      <td>6000</td>\n",
       "      <td>4</td>\n",
       "      <td>1</td>\n",
       "      <td>2</td>\n",
       "      <td>2</td>\n",
       "      <td>1</td>\n",
       "      <td>0</td>\n",
       "      <td>1</td>\n",
       "      <td>0</td>\n",
       "      <td>1</td>\n",
       "      <td>0</td>\n",
       "      <td>0</td>\n",
       "      <td>0</td>\n",
       "    </tr>\n",
       "    <tr>\n",
       "      <th>16</th>\n",
       "      <td>9100000</td>\n",
       "      <td>6600</td>\n",
       "      <td>4</td>\n",
       "      <td>2</td>\n",
       "      <td>2</td>\n",
       "      <td>1</td>\n",
       "      <td>0</td>\n",
       "      <td>1</td>\n",
       "      <td>1</td>\n",
       "      <td>1</td>\n",
       "      <td>1</td>\n",
       "      <td>0</td>\n",
       "      <td>1</td>\n",
       "      <td>1</td>\n",
       "    </tr>\n",
       "    <tr>\n",
       "      <th>17</th>\n",
       "      <td>8960000</td>\n",
       "      <td>8500</td>\n",
       "      <td>3</td>\n",
       "      <td>2</td>\n",
       "      <td>4</td>\n",
       "      <td>2</td>\n",
       "      <td>0</td>\n",
       "      <td>0</td>\n",
       "      <td>1</td>\n",
       "      <td>0</td>\n",
       "      <td>0</td>\n",
       "      <td>0</td>\n",
       "      <td>1</td>\n",
       "      <td>0</td>\n",
       "    </tr>\n",
       "    <tr>\n",
       "      <th>18</th>\n",
       "      <td>8890000</td>\n",
       "      <td>4600</td>\n",
       "      <td>3</td>\n",
       "      <td>2</td>\n",
       "      <td>2</td>\n",
       "      <td>2</td>\n",
       "      <td>0</td>\n",
       "      <td>0</td>\n",
       "      <td>1</td>\n",
       "      <td>1</td>\n",
       "      <td>0</td>\n",
       "      <td>0</td>\n",
       "      <td>1</td>\n",
       "      <td>0</td>\n",
       "    </tr>\n",
       "    <tr>\n",
       "      <th>19</th>\n",
       "      <td>8855000</td>\n",
       "      <td>6420</td>\n",
       "      <td>3</td>\n",
       "      <td>2</td>\n",
       "      <td>2</td>\n",
       "      <td>1</td>\n",
       "      <td>1</td>\n",
       "      <td>0</td>\n",
       "      <td>1</td>\n",
       "      <td>0</td>\n",
       "      <td>0</td>\n",
       "      <td>0</td>\n",
       "      <td>1</td>\n",
       "      <td>1</td>\n",
       "    </tr>\n",
       "  </tbody>\n",
       "</table>\n",
       "</div>"
      ],
      "text/plain": [
       "      price  area  bedrooms  bathrooms  stories  parking  \\\n",
       "15  9100000  6000         4          1        2        2   \n",
       "16  9100000  6600         4          2        2        1   \n",
       "17  8960000  8500         3          2        4        2   \n",
       "18  8890000  4600         3          2        2        2   \n",
       "19  8855000  6420         3          2        2        1   \n",
       "\n",
       "    furnishingstatus_semi-furnished  furnishingstatus_unfurnished  \\\n",
       "15                                1                             0   \n",
       "16                                0                             1   \n",
       "17                                0                             0   \n",
       "18                                0                             0   \n",
       "19                                1                             0   \n",
       "\n",
       "    mainroad_yes  guestroom_yes  basement_yes  hotwaterheating_yes  \\\n",
       "15             1              0             1                    0   \n",
       "16             1              1             1                    0   \n",
       "17             1              0             0                    0   \n",
       "18             1              1             0                    0   \n",
       "19             1              0             0                    0   \n",
       "\n",
       "    airconditioning_yes  prefarea_yes  \n",
       "15                    0             0  \n",
       "16                    1             1  \n",
       "17                    1             0  \n",
       "18                    1             0  \n",
       "19                    1             1  "
      ]
     },
     "execution_count": 22,
     "metadata": {},
     "output_type": "execute_result"
    }
   ],
   "source": [
    "data.head()"
   ]
  },
  {
   "cell_type": "code",
   "execution_count": 23,
   "id": "38d60c2a",
   "metadata": {},
   "outputs": [],
   "source": [
    "# Split the data into features (X) and target (y)\n",
    "from sklearn.model_selection import train_test_split\n",
    "X = data.drop(['price'],axis=1)\n",
    "y = data['price']\n"
   ]
  },
  {
   "cell_type": "code",
   "execution_count": 24,
   "id": "8823d399",
   "metadata": {},
   "outputs": [],
   "source": [
    "# Split the data into training and test sets\n",
    "X_train,X_test,y_train,y_test = train_test_split(X,y,test_size=0.3,random_state=42)"
   ]
  },
  {
   "cell_type": "code",
   "execution_count": 25,
   "id": "9f517cc5",
   "metadata": {},
   "outputs": [],
   "source": [
    "# Perform feature scaling using MinMaxScaler\n",
    "scaler = MinMaxScaler()\n",
    "scaler.fit(X_train)\n",
    "X_train_scaled = scaler.transform(X_train)\n",
    "X_test_scaled = scaler.transform(X_test)"
   ]
  },
  {
   "cell_type": "code",
   "execution_count": 26,
   "id": "84b455c0",
   "metadata": {},
   "outputs": [],
   "source": [
    "from sklearn.metrics import mean_squared_error, r2_score\n",
    "from sklearn.neighbors import KNeighborsRegressor\n",
    "from sklearn.tree import DecisionTreeRegressor\n",
    "from sklearn.ensemble import RandomForestRegressor,AdaBoostRegressor\n",
    "from sklearn.svm import SVR\n",
    "from sklearn.linear_model import LinearRegression, Ridge,Lasso\n",
    "from sklearn.metrics import r2_score, mean_absolute_error, mean_squared_error\n",
    "from sklearn.model_selection import RandomizedSearchCV\n",
    "from catboost import CatBoostRegressor\n",
    "from xgboost import XGBRegressor"
   ]
  },
  {
   "cell_type": "code",
   "execution_count": 27,
   "id": "f691efb6",
   "metadata": {},
   "outputs": [],
   "source": [
    "# Models Training"
   ]
  },
  {
   "cell_type": "code",
   "execution_count": 28,
   "id": "8f108a21",
   "metadata": {},
   "outputs": [],
   "source": [
    "models = {\n",
    "    \"Linear Regression\": LinearRegression(),\n",
    "    \"Lasso\": Lasso(),\n",
    "    \"Ridge\": Ridge(),\n",
    "    \"K-Neighbors Regressor\": KNeighborsRegressor(),\n",
    "    \"Decision Tree\": DecisionTreeRegressor(),\n",
    "    \"Random Forest Regressor\": RandomForestRegressor(),\n",
    "    \"XGBRegressor\": XGBRegressor(), \n",
    "    \"CatBoosting Regressor\": CatBoostRegressor(verbose=False),\n",
    "    \"AdaBoost Regressor\": AdaBoostRegressor()\n",
    "}"
   ]
  },
  {
   "cell_type": "code",
   "execution_count": 29,
   "id": "a970af62",
   "metadata": {},
   "outputs": [],
   "source": [
    "pred ={}\n",
    "for name, model in models.items():\n",
    "    model.fit(X_train, y_train)\n",
    "    y_pred = model.predict(X_test)\n",
    "    pred[name] = y_pred"
   ]
  },
  {
   "cell_type": "markdown",
   "id": "838c4103",
   "metadata": {},
   "source": [
    "# Models Evaluation"
   ]
  },
  {
   "cell_type": "code",
   "execution_count": 30,
   "id": "b4b01877",
   "metadata": {},
   "outputs": [
    {
     "name": "stdout",
     "output_type": "stream",
     "text": [
      "Results for Linear Regression : \n",
      "Mean Square Erroe : 855741101679.9824\n",
      "R2 Score : 0.7101226832065204\n",
      "\n",
      "\n",
      "Results for Lasso : \n",
      "Mean Square Erroe : 855741685449.5315\n",
      "R2 Score : 0.7101224854579837\n",
      "\n",
      "\n",
      "Results for Ridge : \n",
      "Mean Square Erroe : 856959662079.8167\n",
      "R2 Score : 0.709709902964504\n",
      "\n",
      "\n",
      "Results for K-Neighbors Regressor : \n",
      "Mean Square Erroe : 1591409000021.077\n",
      "R2 Score : 0.4609194650794982\n",
      "\n",
      "\n",
      "Results for Decision Tree : \n",
      "Mean Square Erroe : 1619081200934.6155\n",
      "R2 Score : 0.4515456681041762\n",
      "\n",
      "\n",
      "Results for Random Forest Regressor : \n",
      "Mean Square Erroe : 994408739787.2341\n",
      "R2 Score : 0.6631498280033452\n",
      "\n",
      "\n",
      "Results for XGBRegressor : \n",
      "Mean Square Erroe : 1015530307012.3225\n",
      "R2 Score : 0.655995020057739\n",
      "\n",
      "\n",
      "Results for CatBoosting Regressor : \n",
      "Mean Square Erroe : 914452313972.4469\n",
      "R2 Score : 0.6902346018094478\n",
      "\n",
      "\n",
      "Results for AdaBoost Regressor : \n",
      "Mean Square Erroe : 1076439008072.8538\n",
      "R2 Score : 0.6353625521324041\n",
      "\n",
      "\n"
     ]
    }
   ],
   "source": [
    "acc= {} \n",
    "for name, y_pred in pred.items():\n",
    "    mse = mean_squared_error(y_test, y_pred)\n",
    "    r2 = r2_score(y_test, y_pred)\n",
    "    acc[name] = r2\n",
    "    print(f\"Results for {name} : \")\n",
    "    print (f\"Mean Square Erroe : {mse}\")\n",
    "    print(f\"R2 Score : {r2}\")\n",
    "    print(\"\\n\")"
   ]
  },
  {
   "cell_type": "code",
   "execution_count": 31,
   "id": "1e4acc61",
   "metadata": {},
   "outputs": [
    {
     "name": "stdout",
     "output_type": "stream",
     "text": [
      "The best model is Linear Regression with an R2 score of 0.7101226832065204\n"
     ]
    }
   ],
   "source": [
    "# Get the best model based on the R2 score\n",
    "best_model = max(acc, key=lambda x: acc[x])\n",
    "best_r2_score = acc[best_model]\n",
    "\n",
    "print(f\"The best model is {best_model} with an R2 score of {best_r2_score}\")"
   ]
  },
  {
   "cell_type": "code",
   "execution_count": 32,
   "id": "bec87e60",
   "metadata": {},
   "outputs": [
    {
     "name": "stdout",
     "output_type": "stream",
     "text": [
      "Accuracy of the model is 71.01\n"
     ]
    }
   ],
   "source": [
    "# Train a linear regression model and calculate the accuracy\n",
    "lin_model = LinearRegression(fit_intercept=True)\n",
    "lin_model = lin_model.fit(X_train, y_train)\n",
    "y_pred = lin_model.predict(X_test)\n",
    "score = r2_score(y_test, y_pred) * 100\n",
    "print(\"Accuracy of the model is %.2f\" % score)"
   ]
  },
  {
   "cell_type": "code",
   "execution_count": 33,
   "id": "5253edbc",
   "metadata": {},
   "outputs": [
    {
     "data": {
      "image/png": "[encoded data removed]",
      "text/plain": [
       "<Figure size 640x480 with 1 Axes>"
      ]
     },
     "metadata": {},
     "output_type": "display_data"
    }
   ],
   "source": [
    "# Scatter plot of actual vs predicted values\n",
    "plt.scatter(y_test, y_pred)\n",
    "plt.xlabel('Actual')\n",
    "plt.ylabel('Predicted')\n",
    "plt.show()"
   ]
  },
  {
   "cell_type": "code",
   "execution_count": 35,
   "id": "e734b586",
   "metadata": {},
   "outputs": [
    {
     "data": {
      "image/png": "[encoded data removed]",
      "text/plain": [
       "<Figure size 640x480 with 1 Axes>"
      ]
     },
     "metadata": {},
     "output_type": "display_data"
    }
   ],
   "source": [
    "# Regression plot of actual vs predicted values\n",
    "sns.regplot(x=y_test, y=y_pred, ci=None, color='red')\n",
    "plt.show()"
   ]
  },
  {
   "cell_type": "code",
   "execution_count": 36,
   "id": "949a15b9",
   "metadata": {},
   "outputs": [
    {
     "data": {
      "text/html": [
       "<div>\n",
       "<style scoped>\n",
       "    .dataframe tbody tr th:only-of-type {\n",
       "        vertical-align: middle;\n",
       "    }\n",
       "\n",
       "    .dataframe tbody tr th {\n",
       "        vertical-align: top;\n",
       "    }\n",
       "\n",
       "    .dataframe thead th {\n",
       "        text-align: right;\n",
       "    }\n",
       "</style>\n",
       "<table border=\"1\" class=\"dataframe\">\n",
       "  <thead>\n",
       "    <tr style=\"text-align: right;\">\n",
       "      <th></th>\n",
       "      <th>Actual Value</th>\n",
       "      <th>Predicted Value</th>\n",
       "      <th>Difference</th>\n",
       "    </tr>\n",
       "  </thead>\n",
       "  <tbody>\n",
       "    <tr>\n",
       "      <th>331</th>\n",
       "      <td>3920000</td>\n",
       "      <td>6.181403e+06</td>\n",
       "      <td>-2.261403e+06</td>\n",
       "    </tr>\n",
       "    <tr>\n",
       "      <th>529</th>\n",
       "      <td>2275000</td>\n",
       "      <td>3.705548e+06</td>\n",
       "      <td>-1.430548e+06</td>\n",
       "    </tr>\n",
       "    <tr>\n",
       "      <th>469</th>\n",
       "      <td>3010000</td>\n",
       "      <td>3.256206e+06</td>\n",
       "      <td>-2.462056e+05</td>\n",
       "    </tr>\n",
       "    <tr>\n",
       "      <th>177</th>\n",
       "      <td>5243000</td>\n",
       "      <td>4.500573e+06</td>\n",
       "      <td>7.424268e+05</td>\n",
       "    </tr>\n",
       "    <tr>\n",
       "      <th>531</th>\n",
       "      <td>2233000</td>\n",
       "      <td>4.208703e+06</td>\n",
       "      <td>-1.975703e+06</td>\n",
       "    </tr>\n",
       "    <tr>\n",
       "      <th>...</th>\n",
       "      <td>...</td>\n",
       "      <td>...</td>\n",
       "      <td>...</td>\n",
       "    </tr>\n",
       "    <tr>\n",
       "      <th>219</th>\n",
       "      <td>4795000</td>\n",
       "      <td>4.418840e+06</td>\n",
       "      <td>3.761598e+05</td>\n",
       "    </tr>\n",
       "    <tr>\n",
       "      <th>86</th>\n",
       "      <td>6510000</td>\n",
       "      <td>5.258256e+06</td>\n",
       "      <td>1.251744e+06</td>\n",
       "    </tr>\n",
       "    <tr>\n",
       "      <th>313</th>\n",
       "      <td>4095000</td>\n",
       "      <td>4.280282e+06</td>\n",
       "      <td>-1.852821e+05</td>\n",
       "    </tr>\n",
       "    <tr>\n",
       "      <th>450</th>\n",
       "      <td>3150000</td>\n",
       "      <td>3.834320e+06</td>\n",
       "      <td>-6.843201e+05</td>\n",
       "    </tr>\n",
       "    <tr>\n",
       "      <th>114</th>\n",
       "      <td>6020000</td>\n",
       "      <td>5.014496e+06</td>\n",
       "      <td>1.005504e+06</td>\n",
       "    </tr>\n",
       "  </tbody>\n",
       "</table>\n",
       "<p>156 rows × 3 columns</p>\n",
       "</div>"
      ],
      "text/plain": [
       "     Actual Value  Predicted Value    Difference\n",
       "331       3920000     6.181403e+06 -2.261403e+06\n",
       "529       2275000     3.705548e+06 -1.430548e+06\n",
       "469       3010000     3.256206e+06 -2.462056e+05\n",
       "177       5243000     4.500573e+06  7.424268e+05\n",
       "531       2233000     4.208703e+06 -1.975703e+06\n",
       "..            ...              ...           ...\n",
       "219       4795000     4.418840e+06  3.761598e+05\n",
       "86        6510000     5.258256e+06  1.251744e+06\n",
       "313       4095000     4.280282e+06 -1.852821e+05\n",
       "450       3150000     3.834320e+06 -6.843201e+05\n",
       "114       6020000     5.014496e+06  1.005504e+06\n",
       "\n",
       "[156 rows x 3 columns]"
      ]
     },
     "execution_count": 36,
     "metadata": {},
     "output_type": "execute_result"
    }
   ],
   "source": [
    "# DataFrame with actual, predicted, and difference values\n",
    "pred_df = pd.DataFrame({'Actual Value': y_test, 'Predicted Value': y_pred, 'Difference': y_test - y_pred})\n",
    "pred_df"
   ]
  },
  {
   "cell_type": "code",
   "execution_count": null,
   "id": "10c8023b",
   "metadata": {},
   "outputs": [],
   "source": []
  }
 ],
 "metadata": {
  "kernelspec": {
   "display_name": "Python 3 (ipykernel)",
   "language": "python",
   "name": "python3"
  },
  "language_info": {
   "codemirror_mode": {
    "name": "ipython",
    "version": 3
   },
   "file_extension": ".py",
   "mimetype": "text/x-python",
   "name": "python",
   "nbconvert_exporter": "python",
   "pygments_lexer": "ipython3",
   "version": "3.9.13"
  }
 },
 "nbformat": 4,
 "nbformat_minor": 5
}
